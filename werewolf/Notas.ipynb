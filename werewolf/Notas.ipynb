{
 "cells": [
  {
   "cell_type": "markdown",
   "metadata": {},
   "source": [
    "**Agregar un Jugador**\n",
    "\n",
    "Abre Thunder Client en VSCode.\n",
    "\n",
    "Haz clic en New Request.\n",
    "\n",
    "Configura la solicitud:\n",
    "\n",
    "-Método: POST\n",
    "\n",
    "-URL: http://localhost:8080/api/game/players\n",
    "\n",
    "-Body: Selecciona JSON y pega el siguiente contenido:"
   ]
  },
  {
   "cell_type": "code",
   "execution_count": null,
   "metadata": {
    "vscode": {
     "languageId": "plaintext"
    }
   },
   "outputs": [],
   "source": [
    "{\n",
    "    \"name\": \"John Doe\",\n",
    "    \"role\": \"Aldean\",\n",
    "    \"alive\": true\n",
    "}\n"
   ]
  },
  {
   "cell_type": "markdown",
   "metadata": {},
   "source": [
    "**Obtener Todos los Jugadores**\n",
    "\n",
    "Abre Thunder Client en VSCode.\n",
    "\n",
    "Haz clic en New Request.\n",
    "\n",
    "Configura la solicitud:\n",
    "\n",
    "-Método: GET\n",
    "\n",
    "-URL: http://localhost:8080/api/game/players\n",
    "\n",
    "-Haz clic en Send."
   ]
  },
  {
   "cell_type": "markdown",
   "metadata": {},
   "source": [
    "**Actualizar un Jugador**\n",
    "\n",
    "Abre Thunder Client en VSCode.\n",
    "\n",
    "Haz clic en New Request.\n",
    "\n",
    "Configura la solicitud:\n",
    "\n",
    "-Método: PUT\n",
    "\n",
    "-URL: http://localhost:8080/api/game/players/{id}, reemplazando {id} con el ID del jugador que deseas actualizar.\n",
    "\n",
    "-Body: Selecciona JSON y pega el siguiente contenido:"
   ]
  },
  {
   "cell_type": "code",
   "execution_count": null,
   "metadata": {
    "vscode": {
     "languageId": "plaintext"
    }
   },
   "outputs": [],
   "source": [
    "{\n",
    "    \"name\": \"John Doe Updated\",\n",
    "    \"role\": \"Vidente\",\n",
    "    \"alive\": false\n",
    "}\n"
   ]
  },
  {
   "cell_type": "markdown",
   "metadata": {},
   "source": [
    "**Eliminar un Jugador**\n",
    "\n",
    "Abre Thunder Client en VSCode.\n",
    "\n",
    "Haz clic en New Request.\n",
    "\n",
    "Configura la solicitud:\n",
    "\n",
    "-Método: DELETE\n",
    "\n",
    "-URL: http://localhost:8080/api/game/players/{id}, reemplazando {id} con el ID del jugador que deseas eliminar.\n",
    "\n",
    "-Haz clic en Send."
   ]
  },
  {
   "cell_type": "markdown",
   "metadata": {},
   "source": [
    "**Probar la API rest segunda version**"
   ]
  },
  {
   "cell_type": "markdown",
   "metadata": {},
   "source": [
    "**Paso 1: Crear una Partida**\n",
    "\n",
    "Solicitud POST para Crear una Partida\n",
    "\n",
    "Abre Thunder Client en VSCode.\n",
    "\n",
    "Haz clic en New Request.\n",
    "\n",
    "Configura la solicitud:\n",
    "\n",
    "-Método: POST\n",
    "\n",
    "-URL: http://localhost:8080/api/game/partidas\n",
    "\n",
    "-Body: Selecciona JSON y pega el siguiente contenido:"
   ]
  },
  {
   "cell_type": "code",
   "execution_count": null,
   "metadata": {
    "vscode": {
     "languageId": "plaintext"
    }
   },
   "outputs": [],
   "source": [
    "[\"Jugador1\", \"Jugador2\", \"Jugador3\", \"Jugador4\", \"Jugador5\"]\n"
   ]
  },
  {
   "cell_type": "markdown",
   "metadata": {},
   "source": [
    "**Obtener los Detalles de una Partida**\n",
    "\n",
    "Haz clic en New Request.\n",
    "\n",
    "Configura la solicitud:\n",
    "\n",
    "-Método: GET\n",
    "\n",
    "-URL: http://localhost:8080/api/game/partidas/1 (reemplaza 1 con el id de \n",
    "la partida que deseas obtener)\n",
    "\n",
    "-Haz clic en Send."
   ]
  },
  {
   "cell_type": "markdown",
   "metadata": {},
   "source": [
    "**Cambiar la Fase de una Partida**\n",
    "\n",
    "Haz clic en New Request.\n",
    "\n",
    "Configura la solicitud:\n",
    "\n",
    "-Método: POST\n",
    "\n",
    "-URL: http://localhost:8080/api/game/partidas/1/fase (reemplaza 1 con el id de la partida)\n",
    "\n",
    "-Haz clic en Send."
   ]
  },
  {
   "cell_type": "markdown",
   "metadata": {},
   "source": [
    "**Votar como Aldeano**\n",
    "\n",
    "Haz clic en New Request.\n",
    "\n",
    "Configura la solicitud:\n",
    "\n",
    "-Método: POST\n",
    "\n",
    "-URL: http://localhost:8080/api/game/partidas/1/voto/aldeano?jugadorId=2 (reemplaza 1 con el id de la partida y 2 con el id del jugador votado)"
   ]
  },
  {
   "cell_type": "markdown",
   "metadata": {},
   "source": [
    "**PROYECTO FINAL**\n",
    "\n"
   ]
  },
  {
   "cell_type": "markdown",
   "metadata": {},
   "source": [
    "**PROBAR LA API CON THUNDER CLIENT (POSTMAN ES UNA OPCION TAMBIEN)**"
   ]
  },
  {
   "cell_type": "markdown",
   "metadata": {},
   "source": [
    "**Crear una Partida**\n",
    "\n",
    "Abre Thunder Client en VSCode.\n",
    "\n",
    "Haz clic en New Request.\n",
    "\n",
    "Configura la solicitud:\n",
    "\n",
    "-Método: POST\n",
    "\n",
    "-URL: http://localhost:8080/api/game/partidas\n",
    "\n",
    "-Body: Selecciona JSON y pega el siguiente contenido:"
   ]
  },
  {
   "cell_type": "code",
   "execution_count": null,
   "metadata": {
    "vscode": {
     "languageId": "plaintext"
    }
   },
   "outputs": [],
   "source": [
    "[\"Jugador1\", \"Jugador2\", \"Jugador3\", \"Jugador4\", \"Jugador5\"]\n"
   ]
  },
  {
   "cell_type": "markdown",
   "metadata": {},
   "source": [
    "-Haz clic en Send."
   ]
  },
  {
   "cell_type": "markdown",
   "metadata": {},
   "source": [
    "**Obtener los Detalles de una Partida**\n",
    "\n",
    "Haz clic en New Request.\n",
    "\n",
    "Configura la solicitud:\n",
    "\n",
    "-Método: GET\n",
    "\n",
    "-URL: http://localhost:8080/api/game/partidas/1 (reemplaza 1 con el id de la partida que deseas obtener)\n",
    "\n",
    "-Haz clic en Send."
   ]
  },
  {
   "cell_type": "markdown",
   "metadata": {},
   "source": [
    "**Cambiar la Fase de una Partida**\n",
    "\n",
    "Haz clic en New Request.\n",
    "\n",
    "Configura la solicitud:\n",
    "\n",
    "-Método: POST\n",
    "\n",
    "-URL: http://localhost:8080/api/game/partidas/1/fase (reemplaza 1 con el id de la partida)\n",
    "\n",
    "-Haz clic en Send."
   ]
  },
  {
   "cell_type": "markdown",
   "metadata": {},
   "source": [
    "**Votar como Aldeano**\n",
    "\n",
    "Haz clic en New Request.\n",
    "\n",
    "Configura la solicitud:\n",
    "\n",
    "-Método: POST\n",
    "\n",
    "-URL: http://localhost:8080/api/game/partidas/1/voto-aldeano (reemplaza 1 con el id de la partida)\n",
    "\n",
    "-Body: Selecciona JSON y pega el siguiente contenido:"
   ]
  },
  {
   "cell_type": "code",
   "execution_count": null,
   "metadata": {
    "vscode": {
     "languageId": "plaintext"
    }
   },
   "outputs": [],
   "source": [
    "{\"jugadorId\": 2}\n"
   ]
  },
  {
   "cell_type": "markdown",
   "metadata": {},
   "source": [
    "-Haz clic en Send."
   ]
  },
  {
   "cell_type": "markdown",
   "metadata": {},
   "source": [
    "**Votar como Lobo**\n",
    "\n",
    "Haz clic en New Request.\n",
    "\n",
    "Configura la solicitud:\n",
    "\n",
    "-Método: POST\n",
    "\n",
    "-URL: http://localhost:8080/api/game/partidas/1/voto-lobo (reemplaza 1 con el id de la partida)\n",
    "\n",
    "-Body: Selecciona JSON y pega el siguiente contenido:"
   ]
  },
  {
   "cell_type": "code",
   "execution_count": null,
   "metadata": {
    "vscode": {
     "languageId": "plaintext"
    }
   },
   "outputs": [],
   "source": [
    "{\"jugadorId\": 3}\n"
   ]
  },
  {
   "cell_type": "markdown",
   "metadata": {},
   "source": [
    "-Haz clic en Send."
   ]
  },
  {
   "cell_type": "markdown",
   "metadata": {},
   "source": [
    "**Votar como Vidente**\n",
    "\n",
    "Haz clic en New Request.\n",
    "\n",
    "Configura la solicitud:\n",
    "\n",
    "-Método: POST\n",
    "\n",
    "-URL: http://localhost:8080/api/game/partidas/1/voto-vidente (reemplaza 1 con el id de la partida)\n",
    "\n",
    "-Body: Selecciona JSON y pega el siguiente contenido:"
   ]
  },
  {
   "cell_type": "code",
   "execution_count": null,
   "metadata": {
    "vscode": {
     "languageId": "plaintext"
    }
   },
   "outputs": [],
   "source": [
    "{\"jugadorId\": 4}\n"
   ]
  },
  {
   "cell_type": "markdown",
   "metadata": {},
   "source": [
    "-Haz clic en Send."
   ]
  },
  {
   "cell_type": "markdown",
   "metadata": {},
   "source": [
    "**Procesar Votos y Eliminar Jugadores**\n",
    "\n",
    "Haz clic en New Request.\n",
    "\n",
    "Configura la solicitud:\n",
    "\n",
    "-Método: POST\n",
    "\n",
    "-URL: http://localhost:8080/api/game/partidas/1/procesar-votos\n",
    "\n",
    "-Haz clic en Send."
   ]
  }
 ],
 "metadata": {
  "language_info": {
   "name": "python"
  }
 },
 "nbformat": 4,
 "nbformat_minor": 2
}
