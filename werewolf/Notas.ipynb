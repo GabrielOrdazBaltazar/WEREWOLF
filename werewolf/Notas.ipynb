{
 "cells": [
  {
   "cell_type": "markdown",
   "metadata": {},
   "source": [
    "**FACES PREVIAS**"
   ]
  },
  {
   "cell_type": "markdown",
   "metadata": {},
   "source": [
    "**Agregar un Jugador**\n",
    "\n",
    "Abre Thunder Client en VSCode.\n",
    "\n",
    "Haz clic en New Request.\n",
    "\n",
    "Configura la solicitud:\n",
    "\n",
    "-Método: POST\n",
    "\n",
    "-URL: http://localhost:8080/api/game/players\n",
    "\n",
    "-Body: Selecciona JSON y pega el siguiente contenido:"
   ]
  },
  {
   "cell_type": "code",
   "execution_count": null,
   "metadata": {
    "vscode": {
     "languageId": "plaintext"
    }
   },
   "outputs": [],
   "source": [
    "{\n",
    "    \"name\": \"John Doe\",\n",
    "    \"role\": \"Aldean\",\n",
    "    \"alive\": true\n",
    "}\n"
   ]
  },
  {
   "cell_type": "markdown",
   "metadata": {},
   "source": [
    "**Obtener Todos los Jugadores**\n",
    "\n",
    "Abre Thunder Client en VSCode.\n",
    "\n",
    "Haz clic en New Request.\n",
    "\n",
    "Configura la solicitud:\n",
    "\n",
    "-Método: GET\n",
    "\n",
    "-URL: http://localhost:8080/api/game/players\n",
    "\n",
    "-Haz clic en Send."
   ]
  },
  {
   "cell_type": "markdown",
   "metadata": {},
   "source": [
    "**Actualizar un Jugador**\n",
    "\n",
    "Abre Thunder Client en VSCode.\n",
    "\n",
    "Haz clic en New Request.\n",
    "\n",
    "Configura la solicitud:\n",
    "\n",
    "-Método: PUT\n",
    "\n",
    "-URL: http://localhost:8080/api/game/players/{id}, reemplazando {id} con el ID del jugador que deseas actualizar.\n",
    "\n",
    "-Body: Selecciona JSON y pega el siguiente contenido:"
   ]
  },
  {
   "cell_type": "code",
   "execution_count": null,
   "metadata": {
    "vscode": {
     "languageId": "plaintext"
    }
   },
   "outputs": [],
   "source": [
    "{\n",
    "    \"name\": \"John Doe Updated\",\n",
    "    \"role\": \"Vidente\",\n",
    "    \"alive\": false\n",
    "}\n"
   ]
  },
  {
   "cell_type": "markdown",
   "metadata": {},
   "source": [
    "**Eliminar un Jugador**\n",
    "\n",
    "Abre Thunder Client en VSCode.\n",
    "\n",
    "Haz clic en New Request.\n",
    "\n",
    "Configura la solicitud:\n",
    "\n",
    "-Método: DELETE\n",
    "\n",
    "-URL: http://localhost:8080/api/game/players/{id}, reemplazando {id} con el ID del jugador que deseas eliminar.\n",
    "\n",
    "-Haz clic en Send."
   ]
  },
  {
   "cell_type": "markdown",
   "metadata": {},
   "source": [
    "**Probar la API rest segunda version**"
   ]
  },
  {
   "cell_type": "markdown",
   "metadata": {},
   "source": [
    "**Paso 1: Crear una Partida**\n",
    "\n",
    "Solicitud POST para Crear una Partida\n",
    "\n",
    "Abre Thunder Client en VSCode.\n",
    "\n",
    "Haz clic en New Request.\n",
    "\n",
    "Configura la solicitud:\n",
    "\n",
    "-Método: POST\n",
    "\n",
    "-URL: http://localhost:8080/api/game/partidas\n",
    "\n",
    "-Body: Selecciona JSON y pega el siguiente contenido:"
   ]
  },
  {
   "cell_type": "code",
   "execution_count": null,
   "metadata": {
    "vscode": {
     "languageId": "plaintext"
    }
   },
   "outputs": [],
   "source": [
    "[\"Jugador1\", \"Jugador2\", \"Jugador3\", \"Jugador4\", \"Jugador5\"]\n"
   ]
  },
  {
   "cell_type": "markdown",
   "metadata": {},
   "source": [
    "**Obtener los Detalles de una Partida**\n",
    "\n",
    "Haz clic en New Request.\n",
    "\n",
    "Configura la solicitud:\n",
    "\n",
    "-Método: GET\n",
    "\n",
    "-URL: http://localhost:8080/api/game/partidas/1 (reemplaza 1 con el id de \n",
    "la partida que deseas obtener)\n",
    "\n",
    "-Haz clic en Send."
   ]
  },
  {
   "cell_type": "markdown",
   "metadata": {},
   "source": [
    "**Cambiar la Fase de una Partida**\n",
    "\n",
    "Haz clic en New Request.\n",
    "\n",
    "Configura la solicitud:\n",
    "\n",
    "-Método: POST\n",
    "\n",
    "-URL: http://localhost:8080/api/game/partidas/1/fase (reemplaza 1 con el id de la partida)\n",
    "\n",
    "-Haz clic en Send."
   ]
  },
  {
   "cell_type": "markdown",
   "metadata": {},
   "source": [
    "**Votar como Aldeano**\n",
    "\n",
    "Haz clic en New Request.\n",
    "\n",
    "Configura la solicitud:\n",
    "\n",
    "-Método: POST\n",
    "\n",
    "-URL: http://localhost:8080/api/game/partidas/1/voto/aldeano?jugadorId=2 (reemplaza 1 con el id de la partida y 2 con el id del jugador votado)"
   ]
  },
  {
   "cell_type": "markdown",
   "metadata": {},
   "source": [
    "**PROYECTO FINAL**\n",
    "\n"
   ]
  },
  {
   "cell_type": "markdown",
   "metadata": {},
   "source": [
    "\"Los hombres lobo de Castronegro\" se puede jugar con los roles básicos y reglas simplificadas. Aquí te dejo una descripción de esta versión básica:\n",
    "\n",
    "Roles:\n",
    "Aldeanos: La mayoría de los jugadores son aldeanos. No tienen habilidades especiales, solo tratan de identificar a los hombres lobo.\n",
    "\n",
    "Hombres Lobo: Unos pocos jugadores son hombres lobo. Cada noche, los hombres lobo se despiertan y eligen a un aldeano para eliminar.\n",
    "\n",
    "Vidente: Un jugador es el vidente. Cada noche, el vidente puede conocer la verdadera identidad de un jugador.\n",
    "Reglas del Juego:\n",
    "Preparación:\n",
    "\n",
    "Se elige un narrador que no participa como jugador.\n",
    "\n",
    "Se reparten las cartas de rol en secreto a cada jugador.\n",
    "\n",
    "Los jugadores se sientan en un círculo y mantienen su rol en secreto.\n",
    "Fases del Juego:\n",
    "\n",
    "Noche:\n",
    "El narrador pide a todos los jugadores que cierren los ojos.\n",
    "\n",
    "El narrador pide a los hombres lobo que abran los ojos y seleccionen en silencio a un jugador para eliminar. \n",
    "\n",
    "Luego, cierran los ojos.\n",
    "\n",
    "El narrador pide al vidente que abra los ojos y elija a un jugador para conocer su rol. El narrador muestra en silencio el rol del jugador seleccionado al vidente. Luego, el vidente cierra los ojos.\n",
    "\n",
    "Día:\n",
    "El narrador pide a todos los jugadores que abran los ojos y anuncia quién ha sido eliminado durante la noche. \n",
    "\n",
    "El jugador eliminado revela su rol y queda fuera del juego.\n",
    "\n",
    "Los jugadores (incluidos los hombres lobo que fingen ser aldeanos) discuten y votan para eliminar a un jugador sospechoso de ser un hombre lobo.\n",
    "\n",
    "El jugador con más votos es eliminado y revela su rol.\n",
    "Condiciones de Victoria:\n",
    "\n",
    "Los aldeanos ganan si eliminan a todos los hombres lobo.\n",
    "Los hombres lobo ganan si igualan o superan en número a los aldeanos."
   ]
  },
  {
   "cell_type": "markdown",
   "metadata": {},
   "source": [
    "**Lenguajes y Frameworks**\n",
    "\n",
    "-Java: Lenguaje de programación principal.\n",
    "\n",
    "-Spring Boot: Framework para construir aplicaciones Java de manera rápida y sencilla.\n"
   ]
  },
  {
   "cell_type": "markdown",
   "metadata": {},
   "source": [
    "**Dependencias y Librerías**\n",
    "\n",
    "-Spring Boot Starter Web: Para construir aplicaciones web y RESTful services.\n",
    "\n",
    "-Spring Boot Starter Data JPA: Para la integración con JPA (Java Persistence API) y simplificación de la gestión de datos.\n",
    "\n",
    "-H2 Database: Base de datos en memoria para pruebas y desarrollo.\n",
    "\n",
    "-Jakarta Persistence API: API estándar para la persistencia de datos."
   ]
  },
  {
   "cell_type": "markdown",
   "metadata": {},
   "source": [
    "**Herramientas de Desarrollo**\n",
    "\n",
    "-VSCode: Editor de código principal.\n",
    "\n",
    "-Thunder Client: Extensión de VSCode para pruebas de API REST.\n",
    "\n",
    "-Maven: Herramienta de gestión de dependencias y construcción de proyectos."
   ]
  },
  {
   "cell_type": "markdown",
   "metadata": {},
   "source": [
    "**Reporte de Clases y Funcionalidades**\n",
    "\n",
    "**Clase GameController**\n",
    "Propósito: Esta clase actúa como el controlador principal para manejar las solicitudes relacionadas con el juego \"Los Hombres Lobo de Castronegro\". Gestiona la creación de partidas, el cambio de fases, y la votación y eliminación de jugadores.\n",
    "\n",
    "**Métodos:**\n",
    "\n",
    "createPartida(List<String> nombres): Crea una nueva partida asignando roles a los jugadores y estableciendo la fase inicial en \"Noche\".\n",
    "\n",
    "getPartida(Long id): Recupera los detalles de una partida específica.\n",
    "\n",
    "cambiarFase(Long id): Cambia la fase de la partida entre \"Día\" y \"Noche\". Durante la transición de \"Noche\" a \"Día\", procesa los votos de los lobos y elimina al jugador con más votos. Durante la transición de \"Día\" a \"Noche\", procesa los votos de los aldeanos y elimina al jugador con más votos.\n",
    "\n",
    "votarAldeano(Long id, VotoRequest votoRequest): Registra un voto de un aldeano durante la fase de \"Día\".\n",
    "\n",
    "votarLobo(Long id, VotoRequest votoRequest): Registra un voto de un lobo durante la fase de \"Noche\".\n",
    "\n",
    "votarVidente(Long id, VotoRequest votoRequest): Permite a la vidente ver el rol de un jugador durante la fase de \"Noche\".\n",
    "\n",
    "procesarVotos(Long id): Procesa y elimina jugadores con más votos tanto de aldeanos como de lobos.\n",
    "Métodos Privados:\n",
    "\n",
    "procesarVotosLobos(Partida partida): Procesa y elimina al jugador con más votos de los lobos durante la fase de \"Noche\".\n",
    "\n",
    "procesarVotosAldeanos(Partida partida): Procesa y elimina al jugador con más votos de los aldeanos durante la fase de \"Día\".\n",
    "\n",
    "asignarRoles(int numeroDeJugadores): Asigna roles a los jugadores al crear una partida, asegurando que haya dos lobos, una vidente y el resto aldeanos.\n",
    "\n",
    "Clase Jugador\n",
    "Propósito: Representa a un jugador en la partida. Cada jugador tiene un nombre, un estado (vivo o muerto), un contador de votos y un rol asignado.\n",
    "\n",
    "Atributos:\n",
    "\n",
    "Long id: Identificador único del jugador.\n",
    "\n",
    "String name: Nombre del jugador.\n",
    "\n",
    "boolean alive: Estado del jugador (vivo o muerto).\n",
    "\n",
    "int votos: Número de votos que ha recibido el jugador.\n",
    "\n",
    "Personaje personaje: Rol del jugador (lobo, vidente, aldeano).\n",
    "Métodos:\n",
    "\n",
    "Métodos getters y setters para cada atributo.\n",
    "Clase Personaje\n",
    "Propósito: Representa el rol de un jugador en la partida (lobo, vidente, aldeano).\n",
    "\n",
    "Atributos:\n",
    "\n",
    "Long id: Identificador único del personaje.\n",
    "\n",
    "String tipo: Tipo de personaje (lobo, vidente, aldeano).\n",
    "Métodos:\n",
    "\n",
    "Métodos getters y setters para cada atributo.\n",
    "\n",
    "Clase Partida\n",
    "Propósito: Representa una partida del juego. Cada partida tiene una lista de jugadores y una fase actual (Día o Noche).\n",
    "\n",
    "Atributos:\n",
    "\n",
    "Long id: Identificador único de la partida.\n",
    "\n",
    "List<Jugador> jugadores: Lista de jugadores en la partida.\n",
    "\n",
    "String fase: Fase actual de la partida (Día o Noche).\n",
    "\n",
    "Métodos:\n",
    "\n",
    "Métodos getters y setters para cada atributo.\n",
    "Clase VotoRequest\n",
    "Propósito: Clase auxiliar para manejar las solicitudes de votación. Contiene el ID del jugador que recibe el voto.\n",
    "\n",
    "Atributos:\n",
    "\n",
    "Long jugadorId: Identificador del jugador que recibe el voto.\n",
    "Métodos:\n",
    "\n",
    "Métodos getters y setters para el atributo jugadorId.\n",
    "Flujo de Uso\n",
    "Creación de una Partida:\n",
    "\n",
    "Se llama a createPartida con una lista de nombres de jugadores.\n",
    "Se asignan roles y se inicializa la partida en la fase \"Noche\".\n",
    "Cambio de Fase:\n",
    "\n",
    "Se llama a cambiarFase para alternar entre las fases de \"Día\" y \"Noche\".\n",
    "Durante el cambio de \"Noche\" a \"Día\", se procesan y eliminan los jugadores con más votos de los lobos.\n",
    "Durante el cambio de \"Día\" a \"Noche\", se procesan y eliminan los jugadores con más votos de los aldeanos.\n",
    "Votación:\n",
    "\n",
    "Los aldeanos votan durante el \"Día\" llamando a votarAldeano.\n",
    "Los lobos votan durante la \"Noche\" llamando a votarLobo.\n",
    "La vidente vota durante la \"Noche\" llamando a votarVidente para ver el rol de un jugador.\n",
    "Procesamiento de Votos:\n",
    "\n",
    "Se llama a procesarVotos para eliminar jugadores con más votos al final de las fases correspondientes."
   ]
  },
  {
   "cell_type": "markdown",
   "metadata": {},
   "source": [
    "**ARQUITECTURA DEL PROYECTO**"
   ]
  },
  {
   "cell_type": "code",
   "execution_count": null,
   "metadata": {
    "vscode": {
     "languageId": "plaintext"
    }
   },
   "outputs": [],
   "source": [
    "src\n",
    "└── main\n",
    "    ├── java\n",
    "    │   └── com\n",
    "    │       └── example\n",
    "    │           └── werewolf\n",
    "    │               ├── controller\n",
    "    │               │   └── GameController.java\n",
    "    │               ├── model\n",
    "    │               │   ├── Jugador.java\n",
    "    │               │   ├── Partida.java\n",
    "    │               │   └── Personaje.java\n",
    "    │               ├── repository\n",
    "    │               │   ├── JugadorRepository.java\n",
    "    │               │   ├── PartidaRepository.java\n",
    "    │               │   └── PersonajeRepository.java\n",
    "    │               └── WerewolfApplication.java\n",
    "    └── resources\n",
    "        └── application.properties\n"
   ]
  },
  {
   "cell_type": "markdown",
   "metadata": {},
   "source": [
    "**CLASES**"
   ]
  },
  {
   "cell_type": "markdown",
   "metadata": {},
   "source": [
    "**1. Clase GameController**"
   ]
  },
  {
   "cell_type": "code",
   "execution_count": null,
   "metadata": {
    "vscode": {
     "languageId": "plaintext"
    }
   },
   "outputs": [],
   "source": [
    "package com.example.werewolf.controller;\n",
    "\n",
    "import com.example.werewolf.model.Jugador;\n",
    "import com.example.werewolf.model.Partida;\n",
    "import com.example.werewolf.model.Personaje;\n",
    "import com.example.werewolf.repository.JugadorRepository;\n",
    "import com.example.werewolf.repository.PartidaRepository;\n",
    "import com.example.werewolf.repository.PersonajeRepository;\n",
    "import org.springframework.beans.factory.annotation.Autowired;\n",
    "import org.springframework.web.bind.annotation.*;\n",
    "\n",
    "import java.util.ArrayList;\n",
    "import java.util.List;\n",
    "import java.util.Optional;\n",
    "\n",
    "@RestController\n",
    "@RequestMapping(\"/game\")\n",
    "public class GameController {\n",
    "\n",
    "    @Autowired\n",
    "    private JugadorRepository jugadorRepository;\n",
    "\n",
    "    @Autowired\n",
    "    private PersonajeRepository personajeRepository;\n",
    "\n",
    "    @Autowired\n",
    "    private PartidaRepository partidaRepository;\n",
    "\n",
    "    @PostMapping(\"/partidas\")\n",
    "    public Partida createPartida(@RequestBody List<String> nombres) {\n",
    "        List<Jugador> jugadores = new ArrayList<>();\n",
    "        List<Personaje> personajes = asignarRoles(nombres.size());\n",
    "\n",
    "        for (int i = 0; i < nombres.size(); i++) {\n",
    "            Jugador jugador = new Jugador();\n",
    "            jugador.setName(nombres.get(i));\n",
    "            jugador.setPersonaje(personajes.get(i));\n",
    "            jugadores.add(jugadorRepository.save(jugador));\n",
    "        }\n",
    "\n",
    "        Partida partida = new Partida();\n",
    "        partida.setJugadores(jugadores);\n",
    "        partida.setFase(\"Noche\");\n",
    "        return partidaRepository.save(partida);\n",
    "    }\n",
    "\n",
    "    @GetMapping(\"/partidas/{id}\")\n",
    "    public Partida getPartida(@PathVariable Long id) {\n",
    "        return partidaRepository.findById(id).orElse(null);\n",
    "    }\n",
    "\n",
    "    @PostMapping(\"/partidas/{id}/fase\")\n",
    "    public Partida cambiarFase(@PathVariable Long id) {\n",
    "        Partida partida = partidaRepository.findById(id).orElse(null);\n",
    "        if (partida != null) {\n",
    "            if (\"Noche\".equals(partida.getFase())) {\n",
    "                procesarVotosLobos(partida);\n",
    "                partida.setFase(\"Día\");\n",
    "            } else if (\"Día\".equals(partida.getFase())) {\n",
    "                procesarVotosAldeanos(partida);\n",
    "                partida.setFase(\"Noche\");\n",
    "            }\n",
    "            partidaRepository.save(partida);\n",
    "        }\n",
    "        return partida;\n",
    "    }\n",
    "\n",
    "    @PostMapping(\"/partidas/{id}/voto-aldeano\")\n",
    "    public Partida votarAldeano(@PathVariable Long id, @RequestBody VotoRequest votoRequest) {\n",
    "        Partida partida = partidaRepository.findById(id).orElse(null);\n",
    "        if (partida != null && \"Día\".equals(partida.getFase())) {\n",
    "            Optional<Jugador> jugadorOpt = jugadorRepository.findById(votoRequest.getJugadorId());\n",
    "            if (jugadorOpt.isPresent()) {\n",
    "                Jugador jugador = jugadorOpt.get();\n",
    "                if (jugador.isAlive()) {\n",
    "                    jugador.setVotos(jugador.getVotos() + 1);\n",
    "                    jugadorRepository.save(jugador);\n",
    "                }\n",
    "            }\n",
    "        }\n",
    "        return partida;\n",
    "    }\n",
    "\n",
    "    @PostMapping(\"/partidas/{id}/voto-lobo\")\n",
    "    public Partida votarLobo(@PathVariable Long id, @RequestBody VotoRequest votoRequest) {\n",
    "        Partida partida = partidaRepository.findById(id).orElse(null);\n",
    "        if (partida != null && \"Noche\".equals(partida.getFase())) {\n",
    "            Optional<Jugador> jugadorOpt = jugadorRepository.findById(votoRequest.getJugadorId());\n",
    "            if (jugadorOpt.isPresent()) {\n",
    "                Jugador jugador = jugadorOpt.get();\n",
    "                if (jugador.isAlive()) {\n",
    "                    jugador.setVotos(jugador.getVotos() + 1);\n",
    "                    jugadorRepository.save(jugador);\n",
    "                }\n",
    "            }\n",
    "        }\n",
    "        return partida;\n",
    "    }\n",
    "\n",
    "    @PostMapping(\"/partidas/{id}/voto-vidente\")\n",
    "    public String votarVidente(@PathVariable Long id, @RequestBody VotoRequest votoRequest) {\n",
    "        Partida partida = partidaRepository.findById(id).orElse(null);\n",
    "        if (partida != null && \"Noche\".equals(partida.getFase())) {\n",
    "            Optional<Jugador> jugadorOpt = jugadorRepository.findById(votoRequest.getJugadorId());\n",
    "            if (jugadorOpt.isPresent()) {\n",
    "                Jugador jugador = jugadorOpt.get();\n",
    "                if (jugador.isAlive()) {\n",
    "                    return jugador.getPersonaje().getTipo();\n",
    "                } else {\n",
    "                    return \"El jugador está muerto\";\n",
    "                }\n",
    "            }\n",
    "        }\n",
    "        return \"Voto no válido\";\n",
    "    }\n",
    "\n",
    "    @PostMapping(\"/partidas/{id}/procesar-votos\")\n",
    "    public Partida procesarVotos(@PathVariable Long id) {\n",
    "        Partida partida = partidaRepository.findById(id).orElse(null);\n",
    "        if (partida != null) {\n",
    "            procesarVotosAldeanos(partida);\n",
    "            procesarVotosLobos(partida);\n",
    "        }\n",
    "        return partida;\n",
    "    }\n",
    "\n",
    "    private void procesarVotosLobos(Partida partida) {\n",
    "        List<Jugador> jugadores = partida.getJugadores();\n",
    "        Jugador jugadorEliminado = jugadores.stream()\n",
    "                .filter(Jugador::isAlive)\n",
    "                .max((j1, j2) -> Integer.compare(j1.getVotos(), j2.getVotos()))\n",
    "                .orElse(null);\n",
    "        if (jugadorEliminado != null) {\n",
    "            jugadorEliminado.setAlive(false);\n",
    "            jugadorEliminado.setVotos(0); // Reiniciar votos después de la eliminación\n",
    "            jugadorRepository.save(jugadorEliminado);\n",
    "        }\n",
    "        // Reiniciar votos de todos los jugadores después de procesar\n",
    "        jugadores.forEach(j -> {\n",
    "            j.setVotos(0);\n",
    "            jugadorRepository.save(j);\n",
    "        });\n",
    "    }\n",
    "\n",
    "    private void procesarVotosAldeanos(Partida partida) {\n",
    "        List<Jugador> jugadores = partida.getJugadores();\n",
    "        Jugador jugadorEliminado = jugadores.stream()\n",
    "                .filter(Jugador::isAlive)\n",
    "                .max((j1, j2) -> Integer.compare(j1.getVotos(), j2.getVotos()))\n",
    "                .orElse(null);\n",
    "        if (jugadorEliminado != null) {\n",
    "            jugadorEliminado.setAlive(false);\n",
    "            jugadorEliminado.setVotos(0); // Reiniciar votos después de la eliminación\n",
    "            jugadorRepository.save(jugadorEliminado);\n",
    "        }\n",
    "        // Reiniciar votos de todos los jugadores después de procesar\n",
    "        jugadores.forEach(j -> {\n",
    "            j.setVotos(0);\n",
    "            jugadorRepository.save(j);\n",
    "        });\n",
    "    }\n",
    "\n",
    "    private List<Personaje> asignarRoles(int numeroDeJugadores) {\n",
    "        List<Personaje> personajes = new ArrayList<>();\n",
    "        int numeroDeLobos = 2;\n",
    "        int numeroDeVidentes = 1;\n",
    "        int numeroDeAldeanos = numeroDeJugadores - numeroDeLobos - numeroDeVidentes;\n",
    "\n",
    "        for (int i = 0; i < numeroDeLobos; i++) {\n",
    "            Personaje lobo = new Personaje();\n",
    "            lobo.setTipo(\"Lobo\");\n",
    "            personajes.add(personajeRepository.save(lobo));\n",
    "        }\n",
    "\n",
    "        for (int i = 0; i < numeroDeVidentes; i++) {\n",
    "            Personaje vidente = new Personaje();\n",
    "            vidente.setTipo(\"Vidente\");\n",
    "            personajes.add(personajeRepository.save(vidente));\n",
    "        }\n",
    "\n",
    "        for (int i = 0; i < numeroDeAldeanos; i++) {\n",
    "            Personaje aldeano = new Personaje();\n",
    "            aldeano.setTipo(\"Aldean\");\n",
    "            personajes.add(personajeRepository.save(aldeano));\n",
    "        }\n",
    "\n",
    "        return personajes;\n",
    "    }\n",
    "}\n",
    "\n",
    "class VotoRequest {\n",
    "    private Long jugadorId;\n",
    "\n",
    "    public Long getJugadorId() {\n",
    "        return jugadorId;\n",
    "    }\n",
    "\n",
    "    public void setJugadorId(Long jugadorId) {\n",
    "        this.jugadorId = jugadorId;\n",
    "    }\n",
    "}\n"
   ]
  },
  {
   "cell_type": "markdown",
   "metadata": {},
   "source": [
    "**2. Clase Jugador**\n"
   ]
  },
  {
   "cell_type": "code",
   "execution_count": null,
   "metadata": {
    "vscode": {
     "languageId": "plaintext"
    }
   },
   "outputs": [],
   "source": [
    "package com.example.werewolf.model;\n",
    "\n",
    "import jakarta.persistence.Entity;\n",
    "import jakarta.persistence.GeneratedValue;\n",
    "import jakarta.persistence.GenerationType;\n",
    "import jakarta.persistence.Id;\n",
    "import jakarta.persistence.ManyToOne;\n",
    "\n",
    "@Entity\n",
    "public class Jugador {\n",
    "    @Id\n",
    "    @GeneratedValue(strategy = GenerationType.IDENTITY)\n",
    "    private Long id;\n",
    "    private String name;\n",
    "    private boolean alive = true;\n",
    "    private int votos = 0;\n",
    "\n",
    "    @ManyToOne\n",
    "    private Personaje personaje;\n",
    "\n",
    "    // Getters y Setters\n",
    "    public Long getId() {\n",
    "        return id;\n",
    "    }\n",
    "\n",
    "    public void setId(Long id) {\n",
    "        this.id = id;\n",
    "    }\n",
    "\n",
    "    public String getName() {\n",
    "        return name;\n",
    "    }\n",
    "\n",
    "    public void setName(String name) {\n",
    "        this.name = name;\n",
    "    }\n",
    "\n",
    "    public boolean isAlive() {\n",
    "        return alive;\n",
    "    }\n",
    "\n",
    "    public void setAlive(boolean alive) {\n",
    "        this.alive = alive;\n",
    "    }\n",
    "\n",
    "    public Personaje getPersonaje() {\n",
    "        return personaje;\n",
    "    }\n",
    "\n",
    "    public void setPersonaje(Personaje personaje) {\n",
    "        this.personaje = personaje;\n",
    "    }\n",
    "\n",
    "    public int getVotos() {\n",
    "        return votos;\n",
    "    }\n",
    "\n",
    "    public void setVotos(int votos) {\n",
    "        this.votos = votos;\n",
    "    }\n",
    "}\n"
   ]
  },
  {
   "cell_type": "markdown",
   "metadata": {},
   "source": [
    "**3. Clase Personaje**"
   ]
  },
  {
   "cell_type": "code",
   "execution_count": null,
   "metadata": {
    "vscode": {
     "languageId": "plaintext"
    }
   },
   "outputs": [],
   "source": [
    "package com.example.werewolf.model;\n",
    "\n",
    "import jakarta.persistence.Entity;\n",
    "import jakarta.persistence.GeneratedValue;\n",
    "import jakarta.persistence.GenerationType;\n",
    "import jakarta.persistence.Id;\n",
    "\n",
    "@Entity\n",
    "public class Personaje {\n",
    "    @Id\n",
    "    @GeneratedValue(strategy = GenerationType.IDENTITY)\n",
    "    private Long id;\n",
    "    private String tipo; // \"Aldean\", \"Lobo\", \"Vidente\"\n",
    "\n",
    "    // Getters y Setters\n",
    "    public Long getId() {\n",
    "        return id;\n",
    "    }\n",
    "\n",
    "    public void setId(Long id) {\n",
    "        this.id = id;\n",
    "    }\n",
    "\n",
    "    public String getTipo() {\n",
    "        return tipo;\n",
    "    }\n",
    "\n",
    "    public void setTipo(String tipo) {\n",
    "        this.tipo = tipo;\n",
    "    }\n",
    "}\n"
   ]
  },
  {
   "cell_type": "markdown",
   "metadata": {},
   "source": [
    "**4. Clase Partida**"
   ]
  },
  {
   "cell_type": "code",
   "execution_count": null,
   "metadata": {
    "vscode": {
     "languageId": "plaintext"
    }
   },
   "outputs": [],
   "source": [
    "package com.example.werewolf.model;\n",
    "\n",
    "import jakarta.persistence.*;\n",
    "import java.util.List;\n",
    "\n",
    "@Entity\n",
    "public class Partida {\n",
    "    @Id\n",
    "    @GeneratedValue(strategy = GenerationType.IDENTITY)\n",
    "    private Long id;\n",
    "\n",
    "    @OneToMany(cascade = CascadeType.ALL)\n",
    "    private List<Jugador> jugadores;\n",
    "\n",
    "    private String fase; // \"Día\" o \"Noche\"\n",
    "\n",
    "    // Getters y Setters\n",
    "    public Long getId() {\n",
    "        return id;\n",
    "    }\n",
    "\n",
    "    public void setId(Long id) {\n",
    "        this.id = id;\n",
    "    }\n",
    "\n",
    "    public List<Jugador> getJugadores() {\n",
    "        return jugadores;\n",
    "    }\n",
    "\n",
    "    public void setJugadores(List<Jugador> jugadores) {\n",
    "        this.jugadores = jugadores;\n",
    "    }\n",
    "\n",
    "    public String getFase() {\n",
    "        return fase;\n",
    "    }\n",
    "\n",
    "    public void setFase(String fase) {\n",
    "        this.fase = fase;\n",
    "    }\n",
    "}\n"
   ]
  },
  {
   "cell_type": "markdown",
   "metadata": {},
   "source": [
    "**5. Repositorios**"
   ]
  },
  {
   "cell_type": "code",
   "execution_count": null,
   "metadata": {
    "vscode": {
     "languageId": "plaintext"
    }
   },
   "outputs": [],
   "source": [
    "package com.example.werewolf.repository;\n",
    "\n",
    "import com.example.werewolf.model.Jugador;\n",
    "import org.springframework.data.jpa.repository.JpaRepository;\n",
    "import org.springframework.stereotype.Repository;\n",
    "\n",
    "@Repository\n",
    "public interface JugadorRepository extends JpaRepository<Jugador, Long> {\n",
    "}\n"
   ]
  },
  {
   "cell_type": "code",
   "execution_count": null,
   "metadata": {
    "vscode": {
     "languageId": "plaintext"
    }
   },
   "outputs": [],
   "source": [
    "package com.example.werewolf.repository;\n",
    "\n",
    "import com.example.werewolf.model.Personaje;\n",
    "import org.springframework.data.jpa.repository.JpaRepository;\n",
    "import org.springframework.stereotype.Repository;\n",
    "\n",
    "@Repository\n",
    "public interface PersonajeRepository extends JpaRepository<Personaje, Long> {\n",
    "}\n"
   ]
  },
  {
   "cell_type": "code",
   "execution_count": null,
   "metadata": {
    "vscode": {
     "languageId": "plaintext"
    }
   },
   "outputs": [],
   "source": [
    "package com.example.werewolf.repository;\n",
    "\n",
    "import com.example.werewolf.model.Partida;\n",
    "import org.springframework.data.jpa.repository.JpaRepository;\n",
    "import org.springframework.stereotype.Repository;\n",
    "\n",
    "@Repository\n",
    "public interface PartidaRepository extends JpaRepository<Partida, Long> {\n",
    "}\n"
   ]
  },
  {
   "cell_type": "markdown",
   "metadata": {},
   "source": [
    "**6. Clase Principal WerewolfApplication**"
   ]
  },
  {
   "cell_type": "code",
   "execution_count": null,
   "metadata": {
    "vscode": {
     "languageId": "plaintext"
    }
   },
   "outputs": [],
   "source": [
    "package com.example.werewolf;\n",
    "\n",
    "import org.springframework.boot.SpringApplication;\n",
    "import org.springframework.boot.autoconfigure.SpringBootApplication;\n",
    "\n",
    "@SpringBootApplication\n",
    "public class WerewolfApplication {\n",
    "\n",
    "    public static void main(String[] args) {\n",
    "        SpringApplication.run(WerewolfApplication.class, args);\n",
    "    }\n",
    "}\n"
   ]
  },
  {
   "cell_type": "markdown",
   "metadata": {},
   "source": [
    "**7. Archivo application.properties**"
   ]
  },
  {
   "cell_type": "code",
   "execution_count": null,
   "metadata": {
    "vscode": {
     "languageId": "plaintext"
    }
   },
   "outputs": [],
   "source": [
    "# Configuración de la base de datos H2\n",
    "spring.datasource.url=jdbc:h2:mem:testdb\n",
    "spring.datasource.driverClassName=org.h2.Driver\n",
    "spring.datasource.username=sa\n",
    "spring.datasource.password=\n",
    "spring.jpa.database-platform=org.hibernate.dialect.H2Dialect\n",
    "spring.h2.console.enabled=true\n",
    "\n",
    "# Configuración del servidor\n",
    "server.port=8080\n",
    "server.servlet.context-path=/api\n",
    "\n",
    "# Configuración del tiempo de espera del servidor\n",
    "server.connection-timeout=5s\n",
    "\n",
    "# Nivel de logs\n",
    "logging.level.root=DEBUG\n"
   ]
  },
  {
   "cell_type": "markdown",
   "metadata": {},
   "source": [
    "**PROBAR LA API CON THUNDER CLIENT (POSTMAN ES UNA OPCION TAMBIEN)**"
   ]
  },
  {
   "cell_type": "markdown",
   "metadata": {},
   "source": [
    "**Crear una Partida**\n",
    "\n",
    "Abre Thunder Client en VSCode.\n",
    "\n",
    "Haz clic en New Request.\n",
    "\n",
    "Configura la solicitud:\n",
    "\n",
    "-Método: POST\n",
    "\n",
    "-URL: http://localhost:8080/api/game/partidas\n",
    "\n",
    "-Body: Selecciona JSON y pega el siguiente contenido:"
   ]
  },
  {
   "cell_type": "code",
   "execution_count": null,
   "metadata": {
    "vscode": {
     "languageId": "plaintext"
    }
   },
   "outputs": [],
   "source": [
    "[\"Jugador1\", \"Jugador2\", \"Jugador3\", \"Jugador4\", \"Jugador5\"]\n"
   ]
  },
  {
   "cell_type": "markdown",
   "metadata": {},
   "source": [
    "-Haz clic en Send."
   ]
  },
  {
   "cell_type": "markdown",
   "metadata": {},
   "source": [
    "**Obtener los Detalles de una Partida**\n",
    "\n",
    "Haz clic en New Request.\n",
    "\n",
    "Configura la solicitud:\n",
    "\n",
    "-Método: GET\n",
    "\n",
    "-URL: http://localhost:8080/api/game/partidas/1 (reemplaza 1 con el id de la partida que deseas obtener)\n",
    "\n",
    "-Haz clic en Send."
   ]
  },
  {
   "cell_type": "markdown",
   "metadata": {},
   "source": [
    "**Cambiar la Fase de una Partida**\n",
    "\n",
    "Haz clic en New Request.\n",
    "\n",
    "Configura la solicitud:\n",
    "\n",
    "-Método: POST\n",
    "\n",
    "-URL: http://localhost:8080/api/game/partidas/1/fase (reemplaza 1 con el id de la partida)\n",
    "\n",
    "-Haz clic en Send."
   ]
  },
  {
   "cell_type": "markdown",
   "metadata": {},
   "source": [
    "**Votar como Aldeano**\n",
    "\n",
    "Haz clic en New Request.\n",
    "\n",
    "Configura la solicitud:\n",
    "\n",
    "-Método: POST\n",
    "\n",
    "-URL: http://localhost:8080/api/game/partidas/1/voto-aldeano (reemplaza 1 con el id de la partida)\n",
    "\n",
    "-Body: Selecciona JSON y pega el siguiente contenido:"
   ]
  },
  {
   "cell_type": "code",
   "execution_count": null,
   "metadata": {
    "vscode": {
     "languageId": "plaintext"
    }
   },
   "outputs": [],
   "source": [
    "{\"jugadorId\": 2}\n"
   ]
  },
  {
   "cell_type": "markdown",
   "metadata": {},
   "source": [
    "-Haz clic en Send."
   ]
  },
  {
   "cell_type": "markdown",
   "metadata": {},
   "source": [
    "**Votar como Lobo**\n",
    "\n",
    "Haz clic en New Request.\n",
    "\n",
    "Configura la solicitud:\n",
    "\n",
    "-Método: POST\n",
    "\n",
    "-URL: http://localhost:8080/api/game/partidas/1/voto-lobo (reemplaza 1 con el id de la partida)\n",
    "\n",
    "-Body: Selecciona JSON y pega el siguiente contenido:"
   ]
  },
  {
   "cell_type": "code",
   "execution_count": null,
   "metadata": {
    "vscode": {
     "languageId": "plaintext"
    }
   },
   "outputs": [],
   "source": [
    "{\"jugadorId\": 3}\n"
   ]
  },
  {
   "cell_type": "markdown",
   "metadata": {},
   "source": [
    "-Haz clic en Send."
   ]
  },
  {
   "cell_type": "markdown",
   "metadata": {},
   "source": [
    "**Votar como Vidente**\n",
    "\n",
    "Haz clic en New Request.\n",
    "\n",
    "Configura la solicitud:\n",
    "\n",
    "-Método: POST\n",
    "\n",
    "-URL: http://localhost:8080/api/game/partidas/1/voto-vidente (reemplaza 1 con el id de la partida)\n",
    "\n",
    "-Body: Selecciona JSON y pega el siguiente contenido:"
   ]
  },
  {
   "cell_type": "code",
   "execution_count": null,
   "metadata": {
    "vscode": {
     "languageId": "plaintext"
    }
   },
   "outputs": [],
   "source": [
    "{\"jugadorId\": 4}\n"
   ]
  },
  {
   "cell_type": "markdown",
   "metadata": {},
   "source": [
    "-Haz clic en Send."
   ]
  },
  {
   "cell_type": "markdown",
   "metadata": {},
   "source": [
    "**Procesar Votos y Eliminar Jugadores**\n",
    "\n",
    "Haz clic en New Request.\n",
    "\n",
    "Configura la solicitud:\n",
    "\n",
    "-Método: POST\n",
    "\n",
    "-URL: http://localhost:8080/api/game/partidas/1/procesar-votos\n",
    "\n",
    "-Haz clic en Send."
   ]
  }
 ],
 "metadata": {
  "language_info": {
   "name": "python"
  }
 },
 "nbformat": 4,
 "nbformat_minor": 2
}
