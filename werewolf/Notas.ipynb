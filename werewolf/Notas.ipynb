{
 "cells": [
  {
   "cell_type": "markdown",
   "metadata": {},
   "source": [
    "**Agregar un Jugador**\n",
    "\n",
    "Abre Thunder Client en VSCode.\n",
    "\n",
    "Haz clic en New Request.\n",
    "\n",
    "Configura la solicitud:\n",
    "\n",
    "-Método: POST\n",
    "\n",
    "-URL: http://localhost:8080/api/game/players\n",
    "\n",
    "-Body: Selecciona JSON y pega el siguiente contenido:"
   ]
  },
  {
   "cell_type": "code",
   "execution_count": null,
   "metadata": {
    "vscode": {
     "languageId": "plaintext"
    }
   },
   "outputs": [],
   "source": [
    "{\n",
    "    \"name\": \"John Doe\",\n",
    "    \"role\": \"Aldean\",\n",
    "    \"alive\": true\n",
    "}\n"
   ]
  },
  {
   "cell_type": "markdown",
   "metadata": {},
   "source": [
    "**Obtener Todos los Jugadores**\n",
    "\n",
    "Abre Thunder Client en VSCode.\n",
    "\n",
    "Haz clic en New Request.\n",
    "\n",
    "Configura la solicitud:\n",
    "\n",
    "-Método: GET\n",
    "\n",
    "-URL: http://localhost:8080/api/game/players\n",
    "\n",
    "-Haz clic en Send."
   ]
  },
  {
   "cell_type": "markdown",
   "metadata": {},
   "source": [
    "**Actualizar un Jugador**\n",
    "\n",
    "Abre Thunder Client en VSCode.\n",
    "\n",
    "Haz clic en New Request.\n",
    "\n",
    "Configura la solicitud:\n",
    "\n",
    "-Método: PUT\n",
    "\n",
    "-URL: http://localhost:8080/api/game/players/{id}, reemplazando {id} con el ID del jugador que deseas actualizar.\n",
    "\n",
    "-Body: Selecciona JSON y pega el siguiente contenido:"
   ]
  },
  {
   "cell_type": "code",
   "execution_count": null,
   "metadata": {
    "vscode": {
     "languageId": "plaintext"
    }
   },
   "outputs": [],
   "source": [
    "{\n",
    "    \"name\": \"John Doe Updated\",\n",
    "    \"role\": \"Vidente\",\n",
    "    \"alive\": false\n",
    "}\n"
   ]
  },
  {
   "cell_type": "markdown",
   "metadata": {},
   "source": [
    "**Eliminar un Jugador**\n",
    "\n",
    "Abre Thunder Client en VSCode.\n",
    "\n",
    "Haz clic en New Request.\n",
    "\n",
    "Configura la solicitud:\n",
    "\n",
    "-Método: DELETE\n",
    "\n",
    "-URL: http://localhost:8080/api/game/players/{id}, reemplazando {id} con el ID del jugador que deseas eliminar.\n",
    "\n",
    "-Haz clic en Send."
   ]
  }
 ],
 "metadata": {
  "language_info": {
   "name": "python"
  }
 },
 "nbformat": 4,
 "nbformat_minor": 2
}
